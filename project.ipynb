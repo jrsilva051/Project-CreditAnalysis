{
 "cells": [
  {
   "cell_type": "markdown",
   "metadata": {},
   "source": [
    " ## Análise Exploratória\n",
    "\n",
    " #### Questões a serem respondidas\n",
    "1. Quantos registros válidos há e qual o total de aprovados e reprovados?\n",
    "2. Qual a faixa etária com maior média de aprovação de crédito?\n",
    "3. Quais a principais caracteristicas dos grupos de crédito (aprovado, reprovado)?\n",
    "4. Percentil da renda entre os grupos de crédito (aprovado, reprovado)?\n",
    "5. Ter carteira de motorista influencia na liberação de crédito?\n",
    "6. Qual a relação  de creditos aprovados e reprovados entre os diferentes tipos de Cidadania?\n",
    "7. Entre pessoas com menos de 1 ano empregadas, qual a relação entre pessoas que tirevam creditos aprovados e reprovados?\n",
    "8. qual a média de score entre os creditos aprovados e reprovados?"
   ]
  },
  {
   "cell_type": "code",
   "execution_count": 58,
   "metadata": {},
   "outputs": [],
   "source": [
    "import os.path\n",
    "import pandas as pd\n",
    "import matplotlib.pyplot as plt\n",
    "import seaborn as sns\n",
    "from matplotlib import cm\n",
    "\n",
    "sns.set_theme(style = \"whitegrid\")\n",
    "name_file = 'dataset.csv'"
   ]
  },
  {
   "cell_type": "code",
   "execution_count": 210,
   "metadata": {},
   "outputs": [
    {
     "ename": "SyntaxError",
     "evalue": "invalid syntax (<ipython-input-210-fc067b978f18>, line 55)",
     "output_type": "error",
     "traceback": [
      "\u001b[1;36m  File \u001b[1;32m\"<ipython-input-210-fc067b978f18>\"\u001b[1;36m, line \u001b[1;32m55\u001b[0m\n\u001b[1;33m    t = t).sort\u001b[0m\n\u001b[1;37m    ^\u001b[0m\n\u001b[1;31mSyntaxError\u001b[0m\u001b[1;31m:\u001b[0m invalid syntax\n"
     ]
    }
   ],
   "source": [
    "def getDataFrame():\n",
    "    if os.path.isfile(name_file):\n",
    "        return pd.read_csv(name_file)\n",
    "    else:\n",
    "        raise TypeError('Arquivo não encontrado!')\n",
    "\n",
    "def generate_graphic_1(self):\n",
    "    results = [self.count_approved, self.count_rejected]\n",
    "    labels = [\"Aprovados {} ({:0.2f} %)\".format(self.count_approved, self.percent_approved), \"Reprovados {} ({:0.2f} %)\".format(self.count_rejected, self.percent_rejected)]\n",
    "    plt.figure()\n",
    "    plt.pie(results, labeldistance=1, radius=3, wedgeprops=dict(width=0.8))\n",
    "    plt.legend(labels=labels, loc='center', prop={'size':12})\n",
    "    plt.title(\"Total por Resultado\", loc='Center', fontdict={'fontsize':20, 'fontweight':20})\n",
    "    plt.show()\n",
    "\n",
    "class Analyze:\n",
    "    def __init__(self):\n",
    "        self.df = getDataFrame()\n",
    "        self.df_approved = self.df[self.df['Approved'] == 1]\n",
    "        self.df_rejected = self.df[self.df['Approved'] == 0]\n",
    "\n",
    "\n",
    "    def check_na(self):\n",
    "        print(\"Possui valores vazios: {}\".format(self.df.isnull().values.any()))\n",
    "\n",
    "    def answer_1(self):\n",
    "        self.count_total = len(self.df)\n",
    "        self.count_approved = len(self.df_approved)\n",
    "        self.count_rejected = len(self.df_rejected)\n",
    "        self.percent_rejected = (self.count_rejected / self.count_total) * 100\n",
    "        self.percent_approved = (self.count_approved / self.count_total) * 100\n",
    "        print(\"Total: {}\\nAprovados {}\\nReprovados {}\".format(self.count_total, self.count_approved, self.count_rejected))\n",
    "        generate_graphic_1(self)\n",
    "\n",
    "    def answer_2(self):\n",
    "        self.mean_age_approved = self.df_approved['Age'].mean()\n",
    "        print('A idade com maior média de aprovação é de {} anos.'.format(int(self.mean_age_approved)))\n",
    "        display(self.df_approved.describe())\n",
    "\n",
    "    def answer_3(self):\n",
    "        print('avaliando os aprovados')\n",
    "        \n",
    "        df = self.df_approved.copy()\n",
    "        df = df.drop(columns=['Industry', 'Ethnicity', 'PriorDefault', 'Citizen', 'ZipCode', 'Approved'])\n",
    "        df['Gender'] = list(map(lambda x: \"Female\" if x == 0 else \"Male\", df['Gender']))\n",
    "        # Falta faixa idade\n",
    "        df['Debt'] = list(map(lambda x: True if x > 0 else False, df['Debt']))\n",
    "        df['Married'] = list(map(lambda x: True if x == 1 else False, df['Married']))\n",
    "        df['BankCustomer'] = list(map(lambda x: True if x == 1 else False, df['BankCustomer']))\n",
    "        df['Employed'] = list(map(lambda x: True if x == 1 else False, df['Employed']))\n",
    "        df['DriversLicense'] = list(map(lambda x: True if x == 1 else False, df['DriversLicense']))\n",
    "        # Falta faixa tempo empresa\n",
    "        # Falta faixa tempo empresa\n",
    "        t = t).sort\n",
    "        print('Age:', t)\n",
    "\n",
    "        display(df.head())\n",
    "        display(self.df_approved.head())\n",
    "\n",
    "\n",
    "analyze = Analyze()\n",
    "#analyze.answer_1()\n",
    "#analyze.answer_2()\n",
    "analyze.answer_3()\n"
   ]
  },
  {
   "cell_type": "code",
   "execution_count": null,
   "metadata": {},
   "outputs": [],
   "source": []
  },
  {
   "cell_type": "markdown",
   "metadata": {},
   "source": [
    "#### Test Units"
   ]
  },
  {
   "cell_type": "code",
   "execution_count": 8,
   "metadata": {},
   "outputs": [],
   "source": [
    "from nose.tools import assert_raises\n",
    "\n",
    "class TestUnits(object):\n",
    "\n",
    "    def test_file_exist(self):\n",
    "        analyze = Analyze()\n",
    "        not assert_raises(TypeError, analyze)\n",
    "        print('TEST - test_file_exist: OK!')\n",
    "\n",
    "    def test_file_not_exist(self):\n",
    "        analyze = Analyze()\n",
    "        assert_raises(TypeError, analyze)\n",
    "        print('TEST - test_file_not_exist: OK!')\n",
    "\n",
    "def runTestUnits():\n",
    "    test = TestUnits()\n",
    "    test.test_file_exist()\n",
    "    test.test_file_not_exist()"
   ]
  },
  {
   "cell_type": "markdown",
   "metadata": {},
   "source": [
    "#### Main"
   ]
  },
  {
   "cell_type": "code",
   "execution_count": 9,
   "metadata": {},
   "outputs": [
    {
     "name": "stdout",
     "output_type": "stream",
     "text": [
      "TEST - test_file_exist: OK!\n",
      "TEST - test_file_not_exist: OK!\n",
      "Possui valores vazios: False\n"
     ]
    }
   ],
   "source": [
    "def main():\n",
    "    #runTestUnits()\n",
    "    analyze = Analyze()\n",
    "    #analyze.check_na()\n",
    "    analyze.answer_1()\n",
    "    \n",
    "\n",
    "if __name__ == '__main__':\n",
    "    main()"
   ]
  },
  {
   "cell_type": "code",
   "execution_count": null,
   "metadata": {},
   "outputs": [],
   "source": [
    "df_full = pd.read_csv(\"dataset.csv\")\n",
    "df = df_full.copy()"
   ]
  },
  {
   "cell_type": "code",
   "execution_count": 11,
   "metadata": {},
   "outputs": [
    {
     "ename": "NameError",
     "evalue": "name 'df' is not defined",
     "output_type": "error",
     "traceback": [
      "\u001b[1;31m---------------------------------------------------------------------------\u001b[0m",
      "\u001b[1;31mNameError\u001b[0m                                 Traceback (most recent call last)",
      "\u001b[1;32m<ipython-input-11-c42a15b2c7cf>\u001b[0m in \u001b[0;36m<module>\u001b[1;34m\u001b[0m\n\u001b[1;32m----> 1\u001b[1;33m \u001b[0mdf\u001b[0m\u001b[1;33m.\u001b[0m\u001b[0mhead\u001b[0m\u001b[1;33m(\u001b[0m\u001b[1;33m)\u001b[0m\u001b[1;33m\u001b[0m\u001b[1;33m\u001b[0m\u001b[0m\n\u001b[0m",
      "\u001b[1;31mNameError\u001b[0m: name 'df' is not defined"
     ]
    }
   ],
   "source": [
    "df.head()"
   ]
  },
  {
   "cell_type": "code",
   "execution_count": null,
   "metadata": {},
   "outputs": [],
   "source": []
  },
  {
   "cell_type": "code",
   "execution_count": null,
   "metadata": {},
   "outputs": [],
   "source": [
    "df = df.drop(columns=[\"Ethnicity\"])"
   ]
  },
  {
   "cell_type": "code",
   "execution_count": null,
   "metadata": {},
   "outputs": [],
   "source": [
    "df['Citizen'].unique()"
   ]
  },
  {
   "cell_type": "code",
   "execution_count": null,
   "metadata": {},
   "outputs": [],
   "source": [
    "#Altera label da coluna Industry\n",
    "citizen_map = {'ByBirth':0, 'ByOtherMeans':1, 'Temporary':2}"
   ]
  },
  {
   "cell_type": "code",
   "execution_count": null,
   "metadata": {},
   "outputs": [],
   "source": [
    "df['Citizen'] = df['Citizen'].map(citizen_map)\n",
    "df['Citizen']"
   ]
  },
  {
   "cell_type": "code",
   "execution_count": null,
   "metadata": {},
   "outputs": [],
   "source": [
    "df.head()"
   ]
  },
  {
   "cell_type": "code",
   "execution_count": null,
   "metadata": {},
   "outputs": [],
   "source": [
    "#Altera label da coluna Industry\n",
    "label_names = df['Industry'].unique()\n",
    "index_labels = list(range(len(label_names)))\n",
    "df['Industry'] = df['Industry'].map(dict(zip(label_names, index_labels)))\n",
    "df['Industry']\n"
   ]
  },
  {
   "cell_type": "code",
   "execution_count": null,
   "metadata": {},
   "outputs": [],
   "source": [
    "df.head()"
   ]
  },
  {
   "cell_type": "code",
   "execution_count": null,
   "metadata": {},
   "outputs": [],
   "source": [
    "import sklearn as sk\n",
    "sk.__version__"
   ]
  },
  {
   "cell_type": "code",
   "execution_count": null,
   "metadata": {},
   "outputs": [],
   "source": []
  }
 ],
 "metadata": {
  "interpreter": {
   "hash": "7efb568a99defd8baefc395d72e221b00930dc7d0008240495d0a2e437cb0c37"
  },
  "kernelspec": {
   "display_name": "Python 3.8.8 64-bit",
   "language": "python",
   "name": "python3"
  },
  "language_info": {
   "codemirror_mode": {
    "name": "ipython",
    "version": 3
   },
   "file_extension": ".py",
   "mimetype": "text/x-python",
   "name": "python",
   "nbconvert_exporter": "python",
   "pygments_lexer": "ipython3",
   "version": "3.8.8"
  },
  "orig_nbformat": 4
 },
 "nbformat": 4,
 "nbformat_minor": 2
}
